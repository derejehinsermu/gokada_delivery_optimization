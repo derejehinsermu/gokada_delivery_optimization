{
 "cells": [
  {
   "cell_type": "code",
   "execution_count": 1,
   "metadata": {},
   "outputs": [],
   "source": [
    "import sys\n",
    "import os\n",
    "import pandas as pd\n",
    "# If running in an environment where __file__ is not defined, manually set the path\n",
    "project_dir = os.path.abspath(os.path.join(os.getcwd(), '..'))\n",
    "sys.path.append(os.path.join(project_dir, 'src'))\n",
    "\n",
    "from clean import handle_missing_values, convert_to_datetime, calculate_trip_duration, calculate_iqr_bounds, remove_outliers, drop_columns_with_missing_values, detect_outliers\n",
    "from add_holiday import add_holiday_feature\n",
    "from fetch_weather import fetch_weather_data\n",
    "from extract_feature import normalize_features, compute_additional_features"
   ]
  },
  {
   "cell_type": "code",
   "execution_count": 2,
   "metadata": {},
   "outputs": [],
   "source": [
    "\n",
    "# Load datasets\n",
    "completed_orders = pd.read_csv('../data/nb.csv')\n",
    "delivery_requests = pd.read_csv('../data/driver_locations_during_request.csv')\n"
   ]
  },
  {
   "cell_type": "code",
   "execution_count": 3,
   "metadata": {},
   "outputs": [
    {
     "name": "stdout",
     "output_type": "stream",
     "text": [
      "   Trip ID                         Trip Origin  \\\n",
      "0   391996  6.508813001668548,3.37740316890347   \n",
      "1   391997                 6.4316714,3.4555375   \n",
      "2   391998         6.631679399999999,3.3388976   \n",
      "3   391999         6.572757200000001,3.3677082   \n",
      "4   392001                 6.6010417,3.2766339   \n",
      "\n",
      "                  Trip Destination      Trip Start Time        Trip End Time  \n",
      "0      6.650969799999999,3.3450307  2021-07-01 07:28:04  2021-07-01 07:29:37  \n",
      "1  6.4280814653326,3.4721885847586  2021-07-01 06:38:04  2021-07-01 07:07:28  \n",
      "2      6.508324099999999,3.3590397  2021-07-01 06:21:02  2021-07-01 07:02:23  \n",
      "3      6.584881099999999,3.3614073  2021-07-01 07:16:07  2021-07-01 07:29:42  \n",
      "4              6.4501069,3.3916154  2021-07-01 09:30:59  2021-07-01 09:34:36  \n"
     ]
    }
   ],
   "source": [
    "print(completed_orders.head())"
   ]
  },
  {
   "cell_type": "code",
   "execution_count": 4,
   "metadata": {},
   "outputs": [
    {
     "name": "stdout",
     "output_type": "stream",
     "text": [
      "Trip ID                0\n",
      "Trip Origin            0\n",
      "Trip Destination       0\n",
      "Trip Start Time     1651\n",
      "Trip End Time          1\n",
      "dtype: int64\n"
     ]
    }
   ],
   "source": [
    "#check missing values for order\n",
    "print(completed_orders.isnull().sum())"
   ]
  },
  {
   "cell_type": "code",
   "execution_count": 5,
   "metadata": {},
   "outputs": [],
   "source": [
    "\n",
    "# Handle missing values\n",
    "completed_orders = handle_missing_values(completed_orders, ['Trip Start Time', 'Trip End Time'])\n",
    "\n"
   ]
  },
  {
   "cell_type": "code",
   "execution_count": 6,
   "metadata": {},
   "outputs": [
    {
     "name": "stdout",
     "output_type": "stream",
     "text": [
      "Trip ID             0\n",
      "Trip Origin         0\n",
      "Trip Destination    0\n",
      "Trip Start Time     0\n",
      "Trip End Time       0\n",
      "dtype: int64\n"
     ]
    }
   ],
   "source": [
    "#check missing values for order\n",
    "print(completed_orders.isnull().sum())"
   ]
  },
  {
   "cell_type": "code",
   "execution_count": 7,
   "metadata": {},
   "outputs": [],
   "source": [
    "\n",
    "# Convert to datetime\n",
    "completed_orders = convert_to_datetime(completed_orders, ['Trip Start Time', 'Trip End Time'])\n",
    "\n",
    "# Calculate trip duration\n",
    "completed_orders = calculate_trip_duration(completed_orders, 'Trip Start Time', 'Trip End Time')\n",
    "\n",
    "# Calculate IQR bounds\n",
    "lower_bound, upper_bound = calculate_iqr_bounds(completed_orders, 'trip_duration')\n",
    "# Detect outliers\n",
    "outliers_iqr = detect_outliers(completed_orders, 'trip_duration', lower_bound, upper_bound)\n",
    "\n",
    "# Remove outliers\n",
    "completed_orders_no_outliers = remove_outliers(completed_orders, 'trip_duration', lower_bound, upper_bound)\n"
   ]
  },
  {
   "cell_type": "code",
   "execution_count": 8,
   "metadata": {},
   "outputs": [],
   "source": [
    "\n",
    "# Drop columns with completely missing values in delivery_requests\n",
    "delivery_requests = drop_columns_with_missing_values(delivery_requests, ['created_at', 'updated_at'])"
   ]
  },
  {
   "cell_type": "code",
   "execution_count": 9,
   "metadata": {},
   "outputs": [
    {
     "data": {
      "text/html": [
       "<div>\n",
       "<style scoped>\n",
       "    .dataframe tbody tr th:only-of-type {\n",
       "        vertical-align: middle;\n",
       "    }\n",
       "\n",
       "    .dataframe tbody tr th {\n",
       "        vertical-align: top;\n",
       "    }\n",
       "\n",
       "    .dataframe thead th {\n",
       "        text-align: right;\n",
       "    }\n",
       "</style>\n",
       "<table border=\"1\" class=\"dataframe\">\n",
       "  <thead>\n",
       "    <tr style=\"text-align: right;\">\n",
       "      <th></th>\n",
       "      <th>id</th>\n",
       "      <th>order_id</th>\n",
       "      <th>driver_id</th>\n",
       "      <th>driver_action</th>\n",
       "      <th>lat</th>\n",
       "      <th>lng</th>\n",
       "    </tr>\n",
       "  </thead>\n",
       "  <tbody>\n",
       "    <tr>\n",
       "      <th>0</th>\n",
       "      <td>1</td>\n",
       "      <td>392001</td>\n",
       "      <td>243828</td>\n",
       "      <td>accepted</td>\n",
       "      <td>6.602207</td>\n",
       "      <td>3.270465</td>\n",
       "    </tr>\n",
       "    <tr>\n",
       "      <th>1</th>\n",
       "      <td>2</td>\n",
       "      <td>392001</td>\n",
       "      <td>243588</td>\n",
       "      <td>rejected</td>\n",
       "      <td>6.592097</td>\n",
       "      <td>3.287445</td>\n",
       "    </tr>\n",
       "    <tr>\n",
       "      <th>2</th>\n",
       "      <td>3</td>\n",
       "      <td>392001</td>\n",
       "      <td>243830</td>\n",
       "      <td>rejected</td>\n",
       "      <td>6.596133</td>\n",
       "      <td>3.281784</td>\n",
       "    </tr>\n",
       "    <tr>\n",
       "      <th>3</th>\n",
       "      <td>4</td>\n",
       "      <td>392001</td>\n",
       "      <td>243539</td>\n",
       "      <td>rejected</td>\n",
       "      <td>6.596142</td>\n",
       "      <td>3.280526</td>\n",
       "    </tr>\n",
       "    <tr>\n",
       "      <th>4</th>\n",
       "      <td>5</td>\n",
       "      <td>392001</td>\n",
       "      <td>171653</td>\n",
       "      <td>rejected</td>\n",
       "      <td>6.609232</td>\n",
       "      <td>3.288800</td>\n",
       "    </tr>\n",
       "  </tbody>\n",
       "</table>\n",
       "</div>"
      ],
      "text/plain": [
       "   id  order_id  driver_id driver_action       lat       lng\n",
       "0   1    392001     243828      accepted  6.602207  3.270465\n",
       "1   2    392001     243588      rejected  6.592097  3.287445\n",
       "2   3    392001     243830      rejected  6.596133  3.281784\n",
       "3   4    392001     243539      rejected  6.596142  3.280526\n",
       "4   5    392001     171653      rejected  6.609232  3.288800"
      ]
     },
     "execution_count": 9,
     "metadata": {},
     "output_type": "execute_result"
    }
   ],
   "source": [
    "# check few rows of delivery request\n",
    "delivery_requests.head()\n",
    "# print(delivery_requests.info())\n"
   ]
  },
  {
   "cell_type": "code",
   "execution_count": 10,
   "metadata": {},
   "outputs": [],
   "source": [
    "import sys\n",
    "import os\n",
    "import pandas as pd\n",
    "import seaborn as sns\n",
    "import matplotlib.pyplot as plt"
   ]
  },
  {
   "cell_type": "code",
   "execution_count": 11,
   "metadata": {},
   "outputs": [
    {
     "data": {
      "image/png": "[encoded data removed]",
      "text/plain": [
       "<Figure size 640x480 with 1 Axes>"
      ]
     },
     "metadata": {},
     "output_type": "display_data"
    }
   ],
   "source": [
    "# Visualize the distribution of trip durations without outliers\n",
    "sns.histplot(outliers_iqr['trip_duration'], kde=True)\n",
    "plt.title('Distribution of Trip Durations (without outliers)')\n",
    "plt.xlabel('Trip Duration (seconds)')\n",
    "plt.ylabel('Frequency')\n",
    "plt.show()"
   ]
  },
  {
   "cell_type": "code",
   "execution_count": 12,
   "metadata": {},
   "outputs": [
    {
     "data": {
      "image/png": "[encoded data removed]",
      "text/plain": [
       "<Figure size 640x480 with 1 Axes>"
      ]
     },
     "metadata": {},
     "output_type": "display_data"
    }
   ],
   "source": [
    "# Visualize the distribution of trip durations without outliers\n",
    "sns.histplot(completed_orders_no_outliers['trip_duration'], kde=True)\n",
    "plt.title('Distribution of Trip Durations (without outliers)')\n",
    "plt.xlabel('Trip Duration (seconds)')\n",
    "plt.ylabel('Frequency')\n",
    "plt.show()\n"
   ]
  },
  {
   "cell_type": "code",
   "execution_count": null,
   "metadata": {},
   "outputs": [],
   "source": []
  },
  {
   "cell_type": "code",
   "execution_count": 13,
   "metadata": {},
   "outputs": [
    {
     "name": "stdout",
     "output_type": "stream",
     "text": [
      "id               0\n",
      "order_id         0\n",
      "driver_id        0\n",
      "driver_action    0\n",
      "lat              0\n",
      "lng              0\n",
      "dtype: int64\n"
     ]
    }
   ],
   "source": [
    "# check missing values for delivery\n",
    "print(delivery_requests.isnull().sum())\n"
   ]
  },
  {
   "cell_type": "code",
   "execution_count": null,
   "metadata": {},
   "outputs": [],
   "source": []
  },
  {
   "cell_type": "code",
   "execution_count": 14,
   "metadata": {},
   "outputs": [
    {
     "name": "stdout",
     "output_type": "stream",
     "text": [
      "Completed adding holiday feature.\n"
     ]
    }
   ],
   "source": [
    "# Add holiday feature\n",
    "completed_orders = add_holiday_feature(completed_orders)"
   ]
  },
  {
   "cell_type": "code",
   "execution_count": 15,
   "metadata": {},
   "outputs": [
    {
     "data": {
      "text/html": [
       "<div>\n",
       "<style scoped>\n",
       "    .dataframe tbody tr th:only-of-type {\n",
       "        vertical-align: middle;\n",
       "    }\n",
       "\n",
       "    .dataframe tbody tr th {\n",
       "        vertical-align: top;\n",
       "    }\n",
       "\n",
       "    .dataframe thead th {\n",
       "        text-align: right;\n",
       "    }\n",
       "</style>\n",
       "<table border=\"1\" class=\"dataframe\">\n",
       "  <thead>\n",
       "    <tr style=\"text-align: right;\">\n",
       "      <th></th>\n",
       "      <th>Trip ID</th>\n",
       "      <th>Trip Origin</th>\n",
       "      <th>Trip Destination</th>\n",
       "      <th>Trip Start Time</th>\n",
       "      <th>Trip End Time</th>\n",
       "      <th>trip_duration</th>\n",
       "      <th>is_holiday</th>\n",
       "    </tr>\n",
       "  </thead>\n",
       "  <tbody>\n",
       "    <tr>\n",
       "      <th>0</th>\n",
       "      <td>391996</td>\n",
       "      <td>6.508813001668548,3.37740316890347</td>\n",
       "      <td>6.650969799999999,3.3450307</td>\n",
       "      <td>2021-07-01 07:28:04</td>\n",
       "      <td>2021-07-01 07:29:37</td>\n",
       "      <td>93.0</td>\n",
       "      <td>False</td>\n",
       "    </tr>\n",
       "    <tr>\n",
       "      <th>1</th>\n",
       "      <td>391997</td>\n",
       "      <td>6.4316714,3.4555375</td>\n",
       "      <td>6.4280814653326,3.4721885847586</td>\n",
       "      <td>2021-07-01 06:38:04</td>\n",
       "      <td>2021-07-01 07:07:28</td>\n",
       "      <td>1764.0</td>\n",
       "      <td>False</td>\n",
       "    </tr>\n",
       "    <tr>\n",
       "      <th>2</th>\n",
       "      <td>391998</td>\n",
       "      <td>6.631679399999999,3.3388976</td>\n",
       "      <td>6.508324099999999,3.3590397</td>\n",
       "      <td>2021-07-01 06:21:02</td>\n",
       "      <td>2021-07-01 07:02:23</td>\n",
       "      <td>2481.0</td>\n",
       "      <td>False</td>\n",
       "    </tr>\n",
       "    <tr>\n",
       "      <th>3</th>\n",
       "      <td>391999</td>\n",
       "      <td>6.572757200000001,3.3677082</td>\n",
       "      <td>6.584881099999999,3.3614073</td>\n",
       "      <td>2021-07-01 07:16:07</td>\n",
       "      <td>2021-07-01 07:29:42</td>\n",
       "      <td>815.0</td>\n",
       "      <td>False</td>\n",
       "    </tr>\n",
       "    <tr>\n",
       "      <th>4</th>\n",
       "      <td>392001</td>\n",
       "      <td>6.6010417,3.2766339</td>\n",
       "      <td>6.4501069,3.3916154</td>\n",
       "      <td>2021-07-01 09:30:59</td>\n",
       "      <td>2021-07-01 09:34:36</td>\n",
       "      <td>217.0</td>\n",
       "      <td>False</td>\n",
       "    </tr>\n",
       "  </tbody>\n",
       "</table>\n",
       "</div>"
      ],
      "text/plain": [
       "   Trip ID                         Trip Origin  \\\n",
       "0   391996  6.508813001668548,3.37740316890347   \n",
       "1   391997                 6.4316714,3.4555375   \n",
       "2   391998         6.631679399999999,3.3388976   \n",
       "3   391999         6.572757200000001,3.3677082   \n",
       "4   392001                 6.6010417,3.2766339   \n",
       "\n",
       "                  Trip Destination     Trip Start Time       Trip End Time  \\\n",
       "0      6.650969799999999,3.3450307 2021-07-01 07:28:04 2021-07-01 07:29:37   \n",
       "1  6.4280814653326,3.4721885847586 2021-07-01 06:38:04 2021-07-01 07:07:28   \n",
       "2      6.508324099999999,3.3590397 2021-07-01 06:21:02 2021-07-01 07:02:23   \n",
       "3      6.584881099999999,3.3614073 2021-07-01 07:16:07 2021-07-01 07:29:42   \n",
       "4              6.4501069,3.3916154 2021-07-01 09:30:59 2021-07-01 09:34:36   \n",
       "\n",
       "   trip_duration  is_holiday  \n",
       "0           93.0       False  \n",
       "1         1764.0       False  \n",
       "2         2481.0       False  \n",
       "3          815.0       False  \n",
       "4          217.0       False  "
      ]
     },
     "execution_count": 15,
     "metadata": {},
     "output_type": "execute_result"
    }
   ],
   "source": [
    "completed_orders.head()"
   ]
  },
  {
   "cell_type": "code",
   "execution_count": 16,
   "metadata": {},
   "outputs": [],
   "source": [
    "# Extract latitude and longitude from Trip Origin and Trip Destination\n",
    "completed_orders[['Trip Origin Lat', 'Trip Origin Lng']] = completed_orders['Trip Origin'].str.split(',', expand=True).astype(float)\n",
    "completed_orders[['Trip Destination Lat', 'Trip Destination Lng']] = completed_orders['Trip Destination'].str.split(',', expand=True).astype(float)\n"
   ]
  },
  {
   "cell_type": "code",
   "execution_count": 17,
   "metadata": {},
   "outputs": [],
   "source": [
    "\n",
    "# Fetch weather data\n",
    "# completed_orders = fetch_weather_data(completed_orders)"
   ]
  },
  {
   "cell_type": "code",
   "execution_count": 18,
   "metadata": {},
   "outputs": [],
   "source": [
    "# Add additional features\n",
    "completed_orders['hour'] = completed_orders['Trip Start Time'].dt.hour\n",
    "completed_orders['day_of_week'] = completed_orders['Trip Start Time'].dt.dayofweek\n",
    "completed_orders['is_weekend'] = completed_orders['day_of_week'] >= 5"
   ]
  },
  {
   "cell_type": "code",
   "execution_count": 19,
   "metadata": {},
   "outputs": [
    {
     "name": "stdout",
     "output_type": "stream",
     "text": [
      "Index(['Trip ID', 'Trip Origin', 'Trip Destination', 'Trip Start Time',\n",
      "       'Trip End Time', 'trip_duration', 'is_holiday', 'Trip Origin Lat',\n",
      "       'Trip Origin Lng', 'Trip Destination Lat', 'Trip Destination Lng',\n",
      "       'hour', 'day_of_week', 'is_weekend'],\n",
      "      dtype='object')\n"
     ]
    }
   ],
   "source": [
    "print(completed_orders.columns)"
   ]
  },
  {
   "cell_type": "code",
   "execution_count": null,
   "metadata": {},
   "outputs": [],
   "source": []
  },
  {
   "cell_type": "markdown",
   "metadata": {},
   "source": [
    "# Next Step..."
   ]
  },
  {
   "cell_type": "code",
   "execution_count": 20,
   "metadata": {},
   "outputs": [],
   "source": [
    "from extract_feature import compute_additional_features, clean_features, count_orders_within_radius,compute_clusters"
   ]
  },
  {
   "cell_type": "code",
   "execution_count": 21,
   "metadata": {},
   "outputs": [
    {
     "name": "stdout",
     "output_type": "stream",
     "text": [
      "Columns after computing additional features: Index(['Trip ID', 'Trip Origin', 'Trip Destination', 'Trip Start Time',\n",
      "       'Trip End Time', 'trip_duration', 'is_holiday', 'Trip Origin Lat',\n",
      "       'Trip Origin Lng', 'Trip Destination Lat', 'Trip Destination Lng',\n",
      "       'hour', 'day_of_week', 'is_weekend', 'distance_km',\n",
      "       'driving_speed_kmph'],\n",
      "      dtype='object')\n"
     ]
    }
   ],
   "source": [
    "\n",
    "# Compute additional features\n",
    "completed_orders = compute_additional_features(completed_orders)\n",
    "print(\"Columns after computing additional features:\", completed_orders.columns)\n"
   ]
  },
  {
   "cell_type": "code",
   "execution_count": 22,
   "metadata": {},
   "outputs": [
    {
     "name": "stdout",
     "output_type": "stream",
     "text": [
      "Columns before normalization: Index(['Trip ID', 'Trip Origin', 'Trip Destination', 'Trip Start Time',\n",
      "       'Trip End Time', 'trip_duration', 'is_holiday', 'Trip Origin Lat',\n",
      "       'Trip Origin Lng', 'Trip Destination Lat', 'Trip Destination Lng',\n",
      "       'hour', 'day_of_week', 'is_weekend', 'distance_km',\n",
      "       'driving_speed_kmph'],\n",
      "      dtype='object')\n",
      "Summary statistics before filling NaNs:\n",
      "       trip_duration    distance_km  driving_speed_kmph\n",
      "count   5.360200e+05  536020.000000       536015.000000\n",
      "mean    4.992324e+03      12.096344           26.525928\n",
      "std     5.250765e+04      11.048909          245.068922\n",
      "min    -5.339356e+06       0.000000        -7156.733045\n",
      "25%     2.022000e+03       5.538559            6.853479\n",
      "50%     3.180000e+03      10.508526           11.132455\n",
      "75%     4.817000e+03      17.009161           16.827735\n",
      "max     1.781371e+07     682.877403        66790.115237\n",
      "Number of NaNs in each column before filling:\n",
      "trip_duration         0\n",
      "distance_km           0\n",
      "driving_speed_kmph    5\n",
      "dtype: int64\n",
      "Number of NaNs in each column after filling:\n",
      "trip_duration         0\n",
      "distance_km           0\n",
      "driving_speed_kmph    0\n",
      "dtype: int64\n"
     ]
    }
   ],
   "source": [
    "# very unusual values in your data before clean feature\n",
    "\n",
    "# Normalize selected features\n",
    "features_to_normalize = ['trip_duration', 'distance_km', 'driving_speed_kmph']\n",
    "print(\"Columns before normalization:\", completed_orders.columns)\n",
    "completed_orders = normalize_features(completed_orders, features_to_normalize)"
   ]
  },
  {
   "cell_type": "markdown",
   "metadata": {},
   "source": [
    "Note: From the summary statistics, it's clear that there are some very unusual values in your data. Specifically, the trip_duration has negative values and extremely large values, which are unrealistic. Similarly, driving_speed_kmph has negative and extremely high values."
   ]
  },
  {
   "cell_type": "code",
   "execution_count": 23,
   "metadata": {},
   "outputs": [],
   "source": [
    "\n",
    "# Clean features\n",
    "completed_orders = clean_features(completed_orders)"
   ]
  },
  {
   "cell_type": "code",
   "execution_count": 24,
   "metadata": {},
   "outputs": [
    {
     "name": "stdout",
     "output_type": "stream",
     "text": [
      "Columns before normalization: Index(['Trip ID', 'Trip Origin', 'Trip Destination', 'Trip Start Time',\n",
      "       'Trip End Time', 'trip_duration', 'is_holiday', 'Trip Origin Lat',\n",
      "       'Trip Origin Lng', 'Trip Destination Lat', 'Trip Destination Lng',\n",
      "       'hour', 'day_of_week', 'is_weekend', 'distance_km',\n",
      "       'driving_speed_kmph'],\n",
      "      dtype='object')\n",
      "Summary statistics before filling NaNs:\n"
     ]
    },
    {
     "name": "stdout",
     "output_type": "stream",
     "text": [
      "       trip_duration  distance_km  driving_speed_kmph\n",
      "count     222.000000   222.000000          222.000000\n",
      "mean        0.032241     7.816243            0.098714\n",
      "std         0.088776    14.580829            0.315508\n",
      "min         0.000146     2.269986            0.000012\n",
      "25%         0.006898     2.778274            0.004292\n",
      "50%         0.015106     3.326853            0.011239\n",
      "75%         0.033551     4.388194            0.024418\n",
      "max         1.035235    60.583286            1.808215\n",
      "Number of NaNs in each column before filling:\n",
      "trip_duration         0\n",
      "distance_km           0\n",
      "driving_speed_kmph    0\n",
      "dtype: int64\n",
      "Number of NaNs in each column after filling:\n",
      "trip_duration         0\n",
      "distance_km           0\n",
      "driving_speed_kmph    0\n",
      "dtype: int64\n"
     ]
    }
   ],
   "source": [
    "# after clean feature\n",
    "# Normalize selected features\n",
    "features_to_normalize = ['trip_duration', 'distance_km', 'driving_speed_kmph']\n",
    "print(\"Columns before normalization:\", completed_orders.columns)\n",
    "completed_orders = normalize_features(completed_orders, features_to_normalize)"
   ]
  },
  {
   "cell_type": "code",
   "execution_count": 25,
   "metadata": {},
   "outputs": [],
   "source": [
    "# Compute the number of riders and orders within 500m\n",
    "delivery_requests = count_orders_within_radius(delivery_requests, radius=0.5)"
   ]
  },
  {
   "cell_type": "code",
   "execution_count": null,
   "metadata": {},
   "outputs": [],
   "source": [
    "\n",
    "# Print summary of the new radius-based features\n",
    "total_accepted_within_radius = delivery_requests['accepted_within_radius'].sum()\n",
    "total_unfulfilled_within_radius = delivery_requests['unfulfilled_within_radius'].sum()\n"
   ]
  },
  {
   "cell_type": "code",
   "execution_count": null,
   "metadata": {},
   "outputs": [
    {
     "name": "stdout",
     "output_type": "stream",
     "text": [
      "Total accepted orders within 500m radius: 264\n",
      "Total unfulfilled orders within 500m radius: 226\n"
     ]
    }
   ],
   "source": [
    "\n",
    "print(f\"Total accepted orders within 500m radius: {total_accepted_within_radius}\")\n",
    "print(f\"Total unfulfilled orders within 500m radius: {total_unfulfilled_within_radius}\")\n"
   ]
  },
  {
   "cell_type": "code",
   "execution_count": null,
   "metadata": {},
   "outputs": [],
   "source": [
    "# Compute clusters for origins and destinations\n",
    "completed_orders, kmeans_origin, kmeans_destination = compute_clusters(completed_orders, n_clusters=10)\n"
   ]
  },
  {
   "cell_type": "code",
   "execution_count": null,
   "metadata": {},
   "outputs": [],
   "source": [
    "# def plot_clusters(df, kmeans, lat_col, lng_col, cluster_col, title):\n",
    "#     \"\"\"\n",
    "#     Plot clusters on a scatter plot.\n",
    "#     \"\"\"\n",
    "#     plt.figure(figsize=(12, 8))\n",
    "#     plt.scatter(df[lat_col], df[lng_col], c=df[cluster_col], cmap='viridis', marker='o', alpha=0.6, s=100)\n",
    "#     plt.scatter(kmeans.cluster_centers_[:, 0], kmeans.cluster_centers_[:, 1], c='red', marker='x')\n",
    "#     plt.title(title)\n",
    "#     plt.xlabel('Latitude')\n",
    "#     plt.ylabel('Longitude')\n",
    "#     plt.grid(True)\n",
    "#     plt.show()\n"
   ]
  },
  {
   "cell_type": "code",
   "execution_count": null,
   "metadata": {},
   "outputs": [],
   "source": [
    "\n",
    "# # Plot clusters for trip origins\n",
    "# plot_clusters(completed_orders, kmeans_origin, 'Trip Origin Lat', 'Trip Origin Lng', 'origin_cluster', 'Clusters of Trip Origins')\n",
    "\n",
    "# # Plot clusters for trip destinations\n",
    "# plot_clusters(completed_orders, kmeans_destination, 'Trip Destination Lat', 'Trip Destination Lng', 'destination_cluster', 'Clusters of Trip Destinations')\n"
   ]
  },
  {
   "cell_type": "code",
   "execution_count": null,
   "metadata": {},
   "outputs": [
    {
     "name": "stderr",
     "output_type": "stream",
     "text": [
      "/home/air/.pyenv/versions/3.10.2/lib/python3.10/site-packages/dask/dataframe/__init__.py:31: FutureWarning: \n",
      "Dask dataframe query planning is disabled because dask-expr is not installed.\n",
      "\n",
      "You can install it with `pip install dask[dataframe]` or `conda install dask`.\n",
      "This will raise in a future version.\n",
      "\n",
      "  warnings.warn(msg, FutureWarning)\n"
     ]
    }
   ],
   "source": [
    "import pandas as pd\n",
    "import datashader as ds\n",
    "import datashader.transfer_functions as tf\n",
    "import holoviews as hv\n",
    "import geoviews as gv\n",
    "from holoviews.operation.datashader import datashade\n",
    "from datashader.utils import export_image\n",
    "from sklearn.cluster import KMeans"
   ]
  },
  {
   "cell_type": "code",
   "execution_count": null,
   "metadata": {},
   "outputs": [],
   "source": [
    "\n",
    "import datashader as ds\n",
    "import datashader.transfer_functions as tf\n",
    "from datashader import reductions\n",
    "from datashader.utils import export_image\n",
    "from datashader.mpl_ext import dsshow\n",
    "import colorcet as cc\n"
   ]
  },
  {
   "cell_type": "code",
   "execution_count": null,
   "metadata": {},
   "outputs": [],
   "source": [
    "\n",
    "def plot_clusters_with_datashader(df, lat_col, lng_col, title):\n",
    "    \"\"\"\n",
    "    Plot clusters using datashader.\n",
    "    \"\"\"\n",
    "    cvs = ds.Canvas(plot_width=850, plot_height=500)\n",
    "    agg = cvs.points(df, lng_col, lat_col)\n",
    "    img = tf.shade(agg, cmap=cc.fire, how='log')\n",
    "    return img\n"
   ]
  },
  {
   "cell_type": "code",
   "execution_count": null,
   "metadata": {},
   "outputs": [
    {
     "data": {
      "image/png": "[encoded data removed]",
      "text/html": [
       "<img style=\"margin: auto; border:1px solid\" src='data:image/png;base64,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'/>"
      ],
      "text/plain": [
       "<xarray.Image (Trip Origin Lat: 500, Trip Origin Lng: 850)> Size: 2MB\n",
       "array([[4278192326,          0,          0, ...,          0,          0,\n",
       "                 0],\n",
       "       [         0,          0,          0, ...,          0,          0,\n",
       "                 0],\n",
       "       [         0,          0,          0, ...,          0,          0,\n",
       "                 0],\n",
       "       ...,\n",
       "       [         0,          0,          0, ...,          0,          0,\n",
       "                 0],\n",
       "       [         0,          0,          0, ...,          0,          0,\n",
       "                 0],\n",
       "       [         0,          0,          0, ...,          0,          0,\n",
       "                 0]], dtype=uint32)\n",
       "Coordinates:\n",
       "  * Trip Origin Lng  (Trip Origin Lng) float64 7kB 1.002 1.005 ... 3.937 3.941\n",
       "  * Trip Origin Lat  (Trip Origin Lat) float64 4kB 1.006 1.017 ... 6.667 6.678"
      ]
     },
     "execution_count": 36,
     "metadata": {},
     "output_type": "execute_result"
    }
   ],
   "source": [
    "\n",
    "# Plot clusters for trip origins using datashader\n",
    "img_origins = plot_clusters_with_datashader(completed_orders, 'Trip Origin Lat', 'Trip Origin Lng', 'Clusters of Trip Origins')\n",
    "img_origins\n"
   ]
  },
  {
   "cell_type": "code",
   "execution_count": null,
   "metadata": {},
   "outputs": [
    {
     "data": {
      "image/png": "[encoded data removed]",
      "text/html": [
       "<img style=\"margin: auto; border:1px solid\" src='data:image/png;base64,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'/>"
      ],
      "text/plain": [
       "<xarray.Image (Trip Destination Lat: 500, Trip Destination Lng: 850)> Size: 2MB\n",
       "array([[4294967295,          0,          0, ...,          0,          0,\n",
       "                 0],\n",
       "       [         0,          0,          0, ...,          0,          0,\n",
       "                 0],\n",
       "       [         0,          0,          0, ...,          0,          0,\n",
       "                 0],\n",
       "       ...,\n",
       "       [         0,          0,          0, ...,          0,          0,\n",
       "                 0],\n",
       "       [         0,          0,          0, ...,          0,          0,\n",
       "                 0],\n",
       "       [         0,          0,          0, ...,          0,          0,\n",
       "                 0]], dtype=uint32)\n",
       "Coordinates:\n",
       "  * Trip Destination Lng  (Trip Destination Lng) float64 7kB 1.004 ... 7.919\n",
       "  * Trip Destination Lat  (Trip Destination Lat) float64 4kB 1.007 ... 7.523"
      ]
     },
     "execution_count": 37,
     "metadata": {},
     "output_type": "execute_result"
    }
   ],
   "source": [
    "# Plot clusters for trip destinations using datashader\n",
    "img_destinations = plot_clusters_with_datashader(completed_orders, 'Trip Destination Lat', 'Trip Destination Lng', 'Clusters of Trip Destinations')\n",
    "img_destinations\n"
   ]
  }
 ],
 "metadata": {
  "kernelspec": {
   "display_name": ".week8",
   "language": "python",
   "name": "python3"
  },
  "language_info": {
   "codemirror_mode": {
    "name": "ipython",
    "version": 3
   },
   "file_extension": ".py",
   "mimetype": "text/x-python",
   "name": "python",
   "nbconvert_exporter": "python",
   "pygments_lexer": "ipython3",
   "version": "3.10.2"
  }
 },
 "nbformat": 4,
 "nbformat_minor": 2
}
