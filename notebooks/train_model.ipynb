{
 "cells": [
  {
   "cell_type": "code",
   "execution_count": 1,
   "metadata": {},
   "outputs": [],
   "source": [
    "import pandas as pd\n",
    "from sklearn.model_selection import train_test_split\n",
    "\n",
    "# Load the dataset\n",
    "data = pd.read_csv('../data/final_dataset.csv')\n",
    "\n",
    "# Select relevant columns\n",
    "columns = ['id', 'order_id', 'driver_id', 'driver_action', 'lat', 'lng',\n",
    "       'Trip Origin', 'Trip Destination', 'Trip Start Time', 'Trip End Time',\n",
    "       'trip_duration', 'Trip Origin Lat', 'Trip Origin Lng',\n",
    "       'Trip Destination Lat', 'Trip Destination Lng', 'weather', 'hour',\n",
    "       'day_of_week', 'Distance_km', 'Trip Duration Hours',\n",
    "       'Average Speed (km/h)', 'accepted_within_radius',\n",
    "       'unfulfilled_within_radius', 'origin_cluster', 'destination_cluster']\n",
    "data = data[columns]\n",
    "\n",
    "# Take only the first 100 rows\n",
    "# data = data.head(100)\n",
    "\n",
    "# Map 'rain' to 1 and 'no rain' to 0\n",
    "data['weather'] = data['weather'].map({'rain': 1, 'no-rain': 0})\n",
    "\n",
    "# Convert the column to int type\n",
    "data['weather'] = data['weather'].astype(int)\n",
    "# Convert datetime columns to datetime type\n",
    "data['Trip Start Time'] = pd.to_datetime(data['Trip Start Time'])\n",
    "data['Trip End Time'] = pd.to_datetime(data['Trip End Time'])\n",
    "\n",
    "# Map 'rain' to 1 and 'no rain' to 0\n",
    "# data['weather'] = data['weather'].map({'rain': 1, 'no-rain': 0}).astype(int)\n",
    "from sklearn.preprocessing import LabelEncoder\n",
    "# Convert categorical columns to category type\n",
    "categorical_columns = ['driver_action', 'Trip Origin', 'Trip Destination']\n",
    "for col in categorical_columns:\n",
    "    data[col] = data[col].astype('category')\n",
    "\n",
    "# Encode categorical columns using LabelEncoder\n",
    "label_encoders = {}\n",
    "for col in categorical_columns:\n",
    "    le = LabelEncoder()\n",
    "    data[col] = le.fit_transform(data[col])\n",
    "    label_encoders[col] = le\n",
    "\n",
    "\n",
    "\n",
    "# Rename columns to remove spaces and special characters and this helps to create the StructureModel.\n",
    "data.rename(columns={\n",
    "    'Trip Origin Lat': 'Trip_Origin_Lat',\n",
    "    'Trip Origin Lng': 'Trip_Origin_Lng',\n",
    "    'Trip Destination Lat': 'Trip_Destination_Lat',\n",
    "    'Trip Destination Lng': 'Trip_Destination_Lng',\n",
    "    'Average Speed (km/h)': 'Average_Speed_kmph',\n",
    "    'Trip Duration Hours': 'Trip_Duration_Hours'\n",
    "}, inplace=True)\n",
    "\n",
    "# Drop columns not used in the models\n",
    "data = data.drop(columns=['id', 'order_id', 'driver_id', 'lat', 'lng', 'Trip Origin', 'Trip Destination', 'Trip Start Time', 'Trip End Time'])\n",
    "\n",
    "# Split the data into training and testing sets\n",
    "train_data, test_data = train_test_split(data, test_size=0.2, random_state=42)\n",
    "\n",
    "# Define features and target variable\n",
    "X_train = train_data.drop(['unfulfilled_within_radius'], axis=1)\n",
    "y_train = train_data['unfulfilled_within_radius']\n",
    "X_test = test_data.drop(['unfulfilled_within_radius'], axis=1)\n",
    "y_test = test_data['unfulfilled_within_radius']\n"
   ]
  },
  {
   "cell_type": "code",
   "execution_count": 4,
   "metadata": {},
   "outputs": [
    {
     "name": "stdout",
     "output_type": "stream",
     "text": [
      "XGBoost Mean Squared Error: 7.132854250612265e-10\n",
      "Random Forest Mean Squared Error: 0.0\n"
     ]
    }
   ],
   "source": [
    "from xgboost import XGBRegressor\n",
    "from sklearn.ensemble import RandomForestRegressor\n",
    "from sklearn.metrics import mean_squared_error\n",
    "\n",
    "# Train XGBoost model\n",
    "\n",
    "xgb_model = XGBRegressor(random_state=42)\n",
    "xgb_model.fit(X_train, y_train)\n",
    "y_pred_xgb = xgb_model.predict(X_test)\n",
    "mse_xgb = mean_squared_error(y_test, y_pred_xgb)\n",
    "print(f'XGBoost Mean Squared Error: {mse_xgb}')\n",
    "\n",
    "# Train Random Forest model\n",
    "rf_model = RandomForestRegressor(random_state=42)\n",
    "rf_model.fit(X_train, y_train)\n",
    "y_pred_rf = rf_model.predict(X_test)\n",
    "mse_rf = mean_squared_error(y_test, y_pred_rf)\n",
    "print(f'Random Forest Mean Squared Error: {mse_rf}')"
   ]
  },
  {
   "cell_type": "code",
   "execution_count": 5,
   "metadata": {},
   "outputs": [],
   "source": [
    "\n",
    "# Select variables based on the causal graph\n",
    "selected_columns = ['Distance_km', 'Trip_Origin_Lat', 'Trip_Origin_Lng', \n",
    "                    'Trip_Destination_Lat', 'Trip_Destination_Lng', \n",
    "                    'Average_Speed_kmph', 'weather', \n",
    "                    'accepted_within_radius']"
   ]
  },
  {
   "cell_type": "code",
   "execution_count": 6,
   "metadata": {},
   "outputs": [
    {
     "name": "stdout",
     "output_type": "stream",
     "text": [
      "XGBoost (Selected Variables) Mean Squared Error: 4.1652437929750685e-07\n",
      "Random Forest (Selected Variables) Mean Squared Error: 0.0\n"
     ]
    }
   ],
   "source": [
    "\n",
    "X_train_selected = train_data[selected_columns]\n",
    "X_test_selected = test_data[selected_columns]\n",
    "\n",
    "# Train XGBoost model with selected variables\n",
    "xgb_model_selected = XGBRegressor(random_state=42)\n",
    "xgb_model_selected.fit(X_train_selected, y_train)\n",
    "y_pred_xgb_selected = xgb_model_selected.predict(X_test_selected)\n",
    "mse_xgb_selected = mean_squared_error(y_test, y_pred_xgb_selected)\n",
    "print(f'XGBoost (Selected Variables) Mean Squared Error: {mse_xgb_selected}')\n",
    "\n",
    "# Train Random Forest model with selected variables\n",
    "rf_model_selected = RandomForestRegressor(random_state=42)\n",
    "rf_model_selected.fit(X_train_selected, y_train)\n",
    "y_pred_rf_selected = rf_model_selected.predict(X_test_selected)\n",
    "mse_rf_selected = mean_squared_error(y_test, y_pred_rf_selected)\n",
    "print(f'Random Forest (Selected Variables) Mean Squared Error: {mse_rf_selected}')\n"
   ]
  },
  {
   "cell_type": "markdown",
   "metadata": {},
   "source": [
    "### NB: The models  have overfitted the training data."
   ]
  },
  {
   "cell_type": "markdown",
   "metadata": {},
   "source": [
    "## Reason"
   ]
  },
  {
   "cell_type": "code",
   "execution_count": 7,
   "metadata": {},
   "outputs": [
    {
     "data": {
      "image/png": "[encoded data removed]",
      "text/plain": [
       "<Figure size 640x480 with 1 Axes>"
      ]
     },
     "metadata": {},
     "output_type": "display_data"
    }
   ],
   "source": [
    "import matplotlib.pyplot as plt\n",
    "\n",
    "plt.hist(data['unfulfilled_within_radius'])\n",
    "plt.title('Distribution of unfulfilled_within_radius')\n",
    "plt.xlabel('unfulfilled_within_radius')\n",
    "plt.ylabel('Frequency')\n",
    "plt.show()\n"
   ]
  },
  {
   "cell_type": "markdown",
   "metadata": {},
   "source": [
    "The histogram indicates that the target variable unfulfilled_within_radius is highly imbalanced. The vast majority of the values are 1, with very few 0s\n",
    "can be resolved by Implementing Resampling and and retrain Model "
   ]
  }
 ],
 "metadata": {
  "kernelspec": {
   "display_name": "Python 3",
   "language": "python",
   "name": "python3"
  },
  "language_info": {
   "codemirror_mode": {
    "name": "ipython",
    "version": 3
   },
   "file_extension": ".py",
   "mimetype": "text/x-python",
   "name": "python",
   "nbconvert_exporter": "python",
   "pygments_lexer": "ipython3",
   "version": "3.10.2"
  }
 },
 "nbformat": 4,
 "nbformat_minor": 2
}
