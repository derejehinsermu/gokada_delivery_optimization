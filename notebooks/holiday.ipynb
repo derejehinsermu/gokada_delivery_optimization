{
 "cells": [
  {
   "cell_type": "code",
   "execution_count": 2,
   "metadata": {},
   "outputs": [
    {
     "name": "stdout",
     "output_type": "stream",
     "text": [
      "(datetime.date(2021, 1, 1), \"New Year's Day\")\n",
      "(datetime.date(2021, 4, 2), 'Good Friday')\n",
      "(datetime.date(2021, 4, 5), 'Easter Monday')\n",
      "(datetime.date(2021, 5, 1), \"Workers' Day\")\n",
      "(datetime.date(2021, 5, 3), \"Workers' Day (observed)\")\n",
      "(datetime.date(2021, 5, 13), 'Eid-el-Fitr (estimated)')\n",
      "(datetime.date(2021, 5, 14), 'Eid-el-Fitr Holiday (estimated)')\n",
      "(datetime.date(2021, 6, 12), 'Democracy Day')\n",
      "(datetime.date(2021, 6, 14), 'Democracy Day (observed)')\n",
      "(datetime.date(2021, 7, 20), 'Eid-el-Kabir (estimated)')\n",
      "(datetime.date(2021, 7, 21), 'Eid-el-Kabir Holiday (estimated)')\n",
      "(datetime.date(2021, 10, 1), 'Independence Day')\n",
      "(datetime.date(2021, 10, 18), 'Eid-el-Mawlid (estimated)')\n",
      "(datetime.date(2021, 12, 25), 'Christmas Day')\n",
      "(datetime.date(2021, 12, 26), 'Boxing Day')\n",
      "(datetime.date(2021, 12, 27), 'Christmas Day (observed)')\n",
      "(datetime.date(2021, 12, 28), 'Boxing Day (observed)')\n"
     ]
    }
   ],
   "source": [
    "import holidays\n",
    "from datetime import date\n",
    "for day in sorted(holidays.Nigeria(years = 2021).items()):\n",
    "    print(day)"
   ]
  },
  {
   "cell_type": "code",
   "execution_count": 3,
   "metadata": {},
   "outputs": [],
   "source": [
    "import pandas as pd\n",
    "df =pd.read_csv('../data/nb.csv')\n"
   ]
  },
  {
   "cell_type": "code",
   "execution_count": 6,
   "metadata": {},
   "outputs": [],
   "source": [
    "import pandas as pd\n",
    "import holidays\n",
    "\n",
    "def add_holiday_feature(df, date_column):\n",
    "    \"\"\"\n",
    "    Add a holiday feature to the dataframe based on the specified date column.\n",
    "    \n",
    "    Parameters:\n",
    "    df (pd.DataFrame): The input dataframe.\n",
    "    date_column (str): The name of the column containing datetime values.\n",
    "    \n",
    "    Returns:\n",
    "    pd.DataFrame: Dataframe with a new 'is_holiday' column indicating if the date is a holiday.\n",
    "    \"\"\"\n",
    "    # Ensure the date column is in datetime format and handle NaN values\n",
    "    df[date_column] = pd.to_datetime(df[date_column], errors='coerce')\n",
    "    \n",
    "    # Drop rows with NaN values in the date column\n",
    "    df = df.dropna(subset=[date_column])\n",
    "    \n",
    "    # Generate holiday feature\n",
    "    years = df[date_column].dt.year.unique()\n",
    "    ng_holidays = holidays.Nigeria(years=years)\n",
    "    df['is_holiday'] = df[date_column].dt.date.apply(lambda x: x in ng_holidays)\n",
    "    \n",
    "    print(\"Completed adding holiday feature.\")\n",
    "    return df\n"
   ]
  },
  {
   "cell_type": "code",
   "execution_count": 7,
   "metadata": {},
   "outputs": [
    {
     "name": "stdout",
     "output_type": "stream",
     "text": [
      "Completed adding holiday feature.\n",
      "   Trip ID                         Trip Origin  \\\n",
      "0   391996  6.508813001668548,3.37740316890347   \n",
      "1   391997                 6.4316714,3.4555375   \n",
      "2   391998         6.631679399999999,3.3388976   \n",
      "3   391999         6.572757200000001,3.3677082   \n",
      "4   392001                 6.6010417,3.2766339   \n",
      "\n",
      "                  Trip Destination     Trip Start Time        Trip End Time  \\\n",
      "0      6.650969799999999,3.3450307 2021-07-01 07:28:04  2021-07-01 07:29:37   \n",
      "1  6.4280814653326,3.4721885847586 2021-07-01 06:38:04  2021-07-01 07:07:28   \n",
      "2      6.508324099999999,3.3590397 2021-07-01 06:21:02  2021-07-01 07:02:23   \n",
      "3      6.584881099999999,3.3614073 2021-07-01 07:16:07  2021-07-01 07:29:42   \n",
      "4              6.4501069,3.3916154 2021-07-01 09:30:59  2021-07-01 09:34:36   \n",
      "\n",
      "   is_holiday  \n",
      "0       False  \n",
      "1       False  \n",
      "2       False  \n",
      "3       False  \n",
      "4       False  \n"
     ]
    },
    {
     "name": "stderr",
     "output_type": "stream",
     "text": [
      "/tmp/ipykernel_255370/1844090909.py:24: SettingWithCopyWarning: \n",
      "A value is trying to be set on a copy of a slice from a DataFrame.\n",
      "Try using .loc[row_indexer,col_indexer] = value instead\n",
      "\n",
      "See the caveats in the documentation: https://pandas.pydata.org/pandas-docs/stable/user_guide/indexing.html#returning-a-view-versus-a-copy\n",
      "  df['is_holiday'] = df[date_column].dt.date.apply(lambda x: x in ng_holidays)\n"
     ]
    }
   ],
   "source": [
    "# Example usage:\n",
    "df = pd.read_csv('../data/nb.csv')\n",
    "df = add_holiday_feature(df, 'Trip Start Time')\n",
    "print(df.head())"
   ]
  },
  {
   "cell_type": "code",
   "execution_count": 8,
   "metadata": {},
   "outputs": [
    {
     "name": "stdout",
     "output_type": "stream",
     "text": [
      "[False  True]\n"
     ]
    }
   ],
   "source": [
    "print(df['is_holiday'].unique())\n"
   ]
  },
  {
   "cell_type": "code",
   "execution_count": null,
   "metadata": {},
   "outputs": [],
   "source": []
  }
 ],
 "metadata": {
  "kernelspec": {
   "display_name": "Python 3",
   "language": "python",
   "name": "python3"
  },
  "language_info": {
   "codemirror_mode": {
    "name": "ipython",
    "version": 3
   },
   "file_extension": ".py",
   "mimetype": "text/x-python",
   "name": "python",
   "nbconvert_exporter": "python",
   "pygments_lexer": "ipython3",
   "version": "3.10.2"
  }
 },
 "nbformat": 4,
 "nbformat_minor": 2
}
